{
 "cells": [
  {
   "cell_type": "code",
   "execution_count": 26,
   "metadata": {
    "collapsed": true,
    "pycharm": {
     "name": "#%%\n"
    }
   },
   "outputs": [],
   "source": [
    "import tensorflow as tf\n",
    "import pandas as pd\n",
    "import numpy as np\n",
    "import time\n",
    "from sklearn.datasets import load_iris\n",
    "from sklearn.model_selection import train_test_split\n",
    "import matplotlib.pyplot as plt"
   ]
  },
  {
   "cell_type": "markdown",
   "source": [
    "load data"
   ],
   "metadata": {
    "collapsed": false,
    "pycharm": {
     "name": "#%% md\n"
    }
   }
  },
  {
   "cell_type": "code",
   "execution_count": 6,
   "outputs": [],
   "source": [
    "iris = load_iris()\n",
    "iris_X, iris_y = iris.data[:-1,:], iris.target[:-1]\n",
    "iris_y = pd.get_dummies(iris_y).values\n",
    "trainX, testX, trainY, testY = train_test_split(iris_X, iris_y, test_size=0.33, random_state=42)"
   ],
   "metadata": {
    "collapsed": false,
    "pycharm": {
     "name": "#%%\n"
    }
   }
  },
  {
   "cell_type": "markdown",
   "source": [
    "find shape of inputs and outputs"
   ],
   "metadata": {
    "collapsed": false,
    "pycharm": {
     "name": "#%% md\n"
    }
   }
  },
  {
   "cell_type": "code",
   "execution_count": 11,
   "outputs": [
    {
     "name": "stdout",
     "output_type": "stream",
     "text": [
      "features 4\n",
      "labels  3\n"
     ]
    }
   ],
   "source": [
    "numFeatures = trainX.shape[1]\n",
    "print('features', numFeatures)\n",
    "numLabels = trainY.shape[1]\n",
    "print('labels ', numLabels)"
   ],
   "metadata": {
    "collapsed": false,
    "pycharm": {
     "name": "#%%\n"
    }
   }
  },
  {
   "cell_type": "code",
   "execution_count": 12,
   "outputs": [
    {
     "name": "stderr",
     "output_type": "stream",
     "text": [
      "2023-07-24 15:18:25.810634: I metal_plugin/src/device/metal_device.cc:1154] Metal device set to: Apple M1 Pro\n",
      "2023-07-24 15:18:25.810720: I metal_plugin/src/device/metal_device.cc:296] systemMemory: 16.00 GB\n",
      "2023-07-24 15:18:25.810736: I metal_plugin/src/device/metal_device.cc:313] maxCacheSize: 5.33 GB\n",
      "2023-07-24 15:18:25.811279: I tensorflow/core/common_runtime/pluggable_device/pluggable_device_factory.cc:303] Could not identify NUMA node of platform GPU ID 0, defaulting to 0. Your kernel may not have been built with NUMA support.\n",
      "2023-07-24 15:18:25.811636: I tensorflow/core/common_runtime/pluggable_device/pluggable_device_factory.cc:269] Created TensorFlow device (/job:localhost/replica:0/task:0/device:GPU:0 with 0 MB memory) -> physical PluggableDevice (device: 0, name: METAL, pci bus id: <undefined>)\n"
     ]
    }
   ],
   "source": [
    "trainX = tf.constant(trainX, dtype='float32')\n",
    "trainY = tf.constant(trainY, dtype='float32')\n",
    "testX = tf.constant(testX, dtype='float32')\n",
    "testY = tf.constant(testY, dtype='float32')"
   ],
   "metadata": {
    "collapsed": false,
    "pycharm": {
     "name": "#%%\n"
    }
   }
  },
  {
   "cell_type": "markdown",
   "source": [
    "How to determine weight and bias shapes:\n",
    "* Input feature is of size 4 and output is of size 3. Weights will be [4,3]\n",
    "* Output is size 3. Bias will be [3]"
   ],
   "metadata": {
    "collapsed": false,
    "pycharm": {
     "name": "#%% md\n"
    }
   }
  },
  {
   "cell_type": "code",
   "execution_count": 13,
   "outputs": [],
   "source": [
    "W = tf.Variable(tf.zeros([4,3]))\n",
    "b = tf.Variable(tf.zeros([3]))"
   ],
   "metadata": {
    "collapsed": false,
    "pycharm": {
     "name": "#%%\n"
    }
   }
  },
  {
   "cell_type": "code",
   "execution_count": 19,
   "outputs": [],
   "source": [
    "weights = tf.Variable(tf.random.normal([numFeatures,numLabels],\n",
    "                                       mean=0.,\n",
    "                                       stddev=0.01,\n",
    "                                       name=\"weights\"),dtype='float32')\n",
    "\n",
    "\n",
    "bias = tf.Variable(tf.random.normal([1,numLabels],\n",
    "                                    mean=0.,\n",
    "                                    stddev=0.01,\n",
    "                                    name=\"bias\"))"
   ],
   "metadata": {
    "collapsed": false,
    "pycharm": {
     "name": "#%%\n"
    }
   }
  },
  {
   "cell_type": "code",
   "execution_count": 21,
   "outputs": [],
   "source": [
    "def lr(x):\n",
    "    applyWeights = tf.matmul(x,weights, name='apply_weights')\n",
    "    addBias = tf.add(applyWeights, bias, name='add_bias')\n",
    "    activation = tf.nn.sigmoid(addBias, name='activation')\n",
    "    return activation"
   ],
   "metadata": {
    "collapsed": false,
    "pycharm": {
     "name": "#%%\n"
    }
   }
  },
  {
   "cell_type": "code",
   "execution_count": 36,
   "outputs": [],
   "source": [
    "numEpochs = 1400\n",
    "learningRate = tf.keras.optimizers.schedules.ExponentialDecay(initial_learning_rate = 0.0008, decay_steps=trainX.shape[0], decay_rate = 0.95, staircase=True)"
   ],
   "metadata": {
    "collapsed": false,
    "pycharm": {
     "name": "#%%\n"
    }
   }
  },
  {
   "cell_type": "code",
   "execution_count": 31,
   "outputs": [],
   "source": [
    "lossfunction = tf.keras.losses.MeanSquaredLogarithmicError()\n",
    "optimizer = tf.keras.optimizers.legacy.SGD(learningRate)"
   ],
   "metadata": {
    "collapsed": false,
    "pycharm": {
     "name": "#%%\n"
    }
   }
  },
  {
   "cell_type": "code",
   "execution_count": 32,
   "outputs": [],
   "source": [
    "def accuracy(y_pred, y_true):\n",
    "    correct_prediction = tf.equal(tf.argmax(y_pred, 1), tf.argmax(y_true, 1))\n",
    "    return tf.reduce_mean(tf.cast(correct_prediction, tf.float32))"
   ],
   "metadata": {
    "collapsed": false,
    "pycharm": {
     "name": "#%%\n"
    }
   }
  },
  {
   "cell_type": "code",
   "execution_count": 33,
   "outputs": [],
   "source": [
    "def optimize(x,y):\n",
    "    with tf.GradientTape() as g:\n",
    "        pred = lr(x)\n",
    "        loss = lossfunction(pred, y)\n",
    "    gradients = g.gradient(loss,[weights, bias])\n",
    "    optimizer.apply_gradients(zip(gradients, [weights, bias]))"
   ],
   "metadata": {
    "collapsed": false,
    "pycharm": {
     "name": "#%%\n"
    }
   }
  },
  {
   "cell_type": "code",
   "execution_count": 37,
   "outputs": [
    {
     "name": "stdout",
     "output_type": "stream",
     "text": [
      "step 0, training accuracy 0.32, loss 0.11624, change in loss 0.11624\n",
      "step 10, training accuracy 0.32, loss 0.116079, change in loss 0.000160985\n",
      "step 20, training accuracy 0.32, loss 0.11592, change in loss 0.000158921\n",
      "step 30, training accuracy 0.32, loss 0.115763, change in loss 0.000156879\n",
      "step 40, training accuracy 0.32, loss 0.115609, change in loss 0.00015486\n",
      "step 50, training accuracy 0.32, loss 0.115456, change in loss 0.000152849\n",
      "step 60, training accuracy 0.32, loss 0.115305, change in loss 0.000150904\n",
      "step 70, training accuracy 0.32, loss 0.115156, change in loss 0.000148982\n",
      "step 80, training accuracy 0.32, loss 0.115009, change in loss 0.000147067\n",
      "step 90, training accuracy 0.32, loss 0.114864, change in loss 0.000145182\n",
      "step 100, training accuracy 0.32, loss 0.114727, change in loss 0.000136927\n",
      "step 110, training accuracy 0.32, loss 0.114592, change in loss 0.000134565\n",
      "step 120, training accuracy 0.32, loss 0.114459, change in loss 0.000132933\n",
      "step 130, training accuracy 0.32, loss 0.114328, change in loss 0.000131331\n",
      "step 140, training accuracy 0.32, loss 0.114198, change in loss 0.000129744\n",
      "step 150, training accuracy 0.32, loss 0.11407, change in loss 0.000128202\n",
      "step 160, training accuracy 0.32, loss 0.113943, change in loss 0.000126645\n",
      "step 170, training accuracy 0.32, loss 0.113818, change in loss 0.000125155\n",
      "step 180, training accuracy 0.32, loss 0.113694, change in loss 0.000123642\n",
      "step 190, training accuracy 0.32, loss 0.113572, change in loss 0.000122182\n",
      "step 200, training accuracy 0.32, loss 0.113458, change in loss 0.000114731\n",
      "step 210, training accuracy 0.32, loss 0.113344, change in loss 0.000113428\n",
      "step 220, training accuracy 0.32, loss 0.113232, change in loss 0.000112146\n",
      "step 230, training accuracy 0.32, loss 0.113121, change in loss 0.000110902\n",
      "step 240, training accuracy 0.32, loss 0.113011, change in loss 0.00010965\n",
      "step 250, training accuracy 0.32, loss 0.112903, change in loss 0.000108428\n",
      "step 260, training accuracy 0.32, loss 0.112796, change in loss 0.000107221\n",
      "step 270, training accuracy 0.32, loss 0.11269, change in loss 0.000106029\n",
      "step 280, training accuracy 0.32, loss 0.112585, change in loss 0.000104852\n",
      "step 290, training accuracy 0.32, loss 0.112482, change in loss 0.000103183\n",
      "step 300, training accuracy 0.32, loss 0.112384, change in loss 9.74461e-05\n",
      "change in loss 9.74461e-05; convergence.\n",
      "final accuracy on test set: 0.32\n"
     ]
    }
   ],
   "source": [
    "display_step = 10\n",
    "epoch_values = []\n",
    "accuracy_values = []\n",
    "loss_values = []\n",
    "loss = 0\n",
    "diff = 1\n",
    "\n",
    "for i in range(numEpochs):\n",
    "    if i>1 and diff <.0001:\n",
    "        print(\"change in loss %g; convergence.\"%diff)\n",
    "        break\n",
    "    else:\n",
    "        # Run training step\n",
    "        optimize(trainX, trainY)\n",
    "\n",
    "        # Report occasional stats\n",
    "        if i % display_step == 0:\n",
    "            # Add epoch to epoch_values\n",
    "            epoch_values.append(i)\n",
    "\n",
    "            pred = lr(testX)\n",
    "            newLoss = lossfunction(pred, testY)\n",
    "            loss_values.append(newLoss)\n",
    "\n",
    "            acc = accuracy(pred, testY)\n",
    "            accuracy_values.append(acc)\n",
    "\n",
    "            diff = abs(newLoss - loss)\n",
    "            loss = newLoss\n",
    "            #generate print statements\n",
    "            print(\"step %d, training accuracy %g, loss %g, change in loss %g\"%(i, acc, newLoss, diff))\n",
    "\n",
    "\n",
    "# How well do we perform on held-out test data?\n",
    "print(\"final accuracy on test set: %s\" %acc.numpy())"
   ],
   "metadata": {
    "collapsed": false,
    "pycharm": {
     "name": "#%%\n"
    }
   }
  },
  {
   "cell_type": "code",
   "execution_count": 38,
   "outputs": [
    {
     "data": {
      "text/plain": "<Figure size 640x480 with 1 Axes>",
      "image/png": "[encoded data removed]"
     },
     "metadata": {},
     "output_type": "display_data"
    }
   ],
   "source": [
    "plt.xlabel(\"Epoch\")\n",
    "plt.ylabel(\"Loss\")\n",
    "plt.plot(loss_values)\n",
    "plt.show()"
   ],
   "metadata": {
    "collapsed": false,
    "pycharm": {
     "name": "#%%\n"
    }
   }
  },
  {
   "cell_type": "code",
   "execution_count": null,
   "outputs": [],
   "source": [],
   "metadata": {
    "collapsed": false,
    "pycharm": {
     "name": "#%%\n"
    }
   }
  }
 ],
 "metadata": {
  "kernelspec": {
   "display_name": "Python 3",
   "language": "python",
   "name": "python3"
  },
  "language_info": {
   "codemirror_mode": {
    "name": "ipython",
    "version": 2
   },
   "file_extension": ".py",
   "mimetype": "text/x-python",
   "name": "python",
   "nbconvert_exporter": "python",
   "pygments_lexer": "ipython2",
   "version": "2.7.6"
  }
 },
 "nbformat": 4,
 "nbformat_minor": 0
}