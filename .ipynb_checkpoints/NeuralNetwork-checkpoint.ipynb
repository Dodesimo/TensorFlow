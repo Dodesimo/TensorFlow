{
 "cells": [
  {
   "cell_type": "markdown",
   "id": "fe088091-f42e-47b2-aa39-ab2e6ecebcfc",
   "metadata": {},
   "source": [
    "Making a sample neural network on TensorFlow."
   ]
  },
  {
   "cell_type": "code",
   "execution_count": 1,
   "id": "82c63ca2-d37b-474d-bde9-228bc74790a3",
   "metadata": {},
   "outputs": [],
   "source": [
    "import tensorflow as tf"
   ]
  },
  {
   "cell_type": "markdown",
   "id": "42c5fcb9-e0e2-4fe4-8590-92580f69e86b",
   "metadata": {},
   "source": [
    "First, multi-layer perceptron."
   ]
  },
  {
   "cell_type": "code",
   "execution_count": 2,
   "id": "d78a0aec-18d8-4900-bf84-295c0bbd5cdb",
   "metadata": {},
   "outputs": [
    {
     "name": "stdout",
     "output_type": "stream",
     "text": [
      "Downloading data from https://storage.googleapis.com/tensorflow/tf-keras-datasets/mnist.npz\n",
      "11490434/11490434 [==============================] - 1s 0us/step\n"
     ]
    }
   ],
   "source": [
    "mnist = tf.keras.datasets.mnist\n",
    "(x_train, y_train), (x_test, y_test) = mnist.load_data()"
   ]
  },
  {
   "cell_type": "code",
   "execution_count": null,
   "id": "250899af-38b2-4ac9-b42d-6d34dc3d36c4",
   "metadata": {},
   "outputs": [],
   "source": []
  }
 ],
 "metadata": {
  "kernelspec": {
   "display_name": "tensorflow",
   "language": "python",
   "name": "tensorflow"
  },
  "language_info": {
   "codemirror_mode": {
    "name": "ipython",
    "version": 3
   },
   "file_extension": ".py",
   "mimetype": "text/x-python",
   "name": "python",
   "nbconvert_exporter": "python",
   "pygments_lexer": "ipython3",
   "version": "3.10.9"
  }
 },
 "nbformat": 4,
 "nbformat_minor": 5
}
