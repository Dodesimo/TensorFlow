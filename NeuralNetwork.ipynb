{
 "cells": [
  {
   "cell_type": "markdown",
   "id": "fe088091-f42e-47b2-aa39-ab2e6ecebcfc",
   "metadata": {},
   "source": [
    "Making a sample neural network on TensorFlow."
   ]
  },
  {
   "cell_type": "code",
   "execution_count": 1,
   "id": "82c63ca2-d37b-474d-bde9-228bc74790a3",
   "metadata": {},
   "outputs": [],
   "source": [
    "import tensorflow as tf"
   ]
  },
  {
   "cell_type": "markdown",
   "id": "42c5fcb9-e0e2-4fe4-8590-92580f69e86b",
   "metadata": {},
   "source": [
    "First, multi-layer perceptron."
   ]
  },
  {
   "cell_type": "code",
   "execution_count": 2,
   "id": "d78a0aec-18d8-4900-bf84-295c0bbd5cdb",
   "metadata": {},
   "outputs": [
    {
     "name": "stdout",
     "output_type": "stream",
     "text": [
      "Downloading data from https://storage.googleapis.com/tensorflow/tf-keras-datasets/mnist.npz\n",
      "11490434/11490434 [==============================] - 1s 0us/step\n"
     ]
    }
   ],
   "source": [
    "mnist = tf.keras.datasets.mnist\n",
    "(x_train, y_train), (x_test, y_test) = mnist.load_data()"
   ]
  },
  {
   "cell_type": "code",
   "execution_count": 3,
   "id": "250899af-38b2-4ac9-b42d-6d34dc3d36c4",
   "metadata": {},
   "outputs": [],
   "source": [
    "x_train, x_test = x_train/255.0, x_test/255.0"
   ]
  },
  {
   "cell_type": "code",
   "execution_count": 4,
   "id": "94577eb7-834b-44d2-be11-4f88c82f0e4a",
   "metadata": {},
   "outputs": [
    {
     "name": "stdout",
     "output_type": "stream",
     "text": [
      "[5 0 4 1 9]\n"
     ]
    }
   ],
   "source": [
    "print(y_train[0:5])"
   ]
  },
  {
   "cell_type": "code",
   "execution_count": 5,
   "id": "320d67a2-257d-4fe5-a53f-0aab82a898c2",
   "metadata": {},
   "outputs": [
    {
     "name": "stderr",
     "output_type": "stream",
     "text": [
      "2023-07-28 18:58:28.568243: I metal_plugin/src/device/metal_device.cc:1154] Metal device set to: Apple M1 Pro\n",
      "2023-07-28 18:58:28.568332: I metal_plugin/src/device/metal_device.cc:296] systemMemory: 16.00 GB\n",
      "2023-07-28 18:58:28.568344: I metal_plugin/src/device/metal_device.cc:313] maxCacheSize: 5.33 GB\n",
      "2023-07-28 18:58:28.568851: I tensorflow/core/common_runtime/pluggable_device/pluggable_device_factory.cc:303] Could not identify NUMA node of platform GPU ID 0, defaulting to 0. Your kernel may not have been built with NUMA support.\n",
      "2023-07-28 18:58:28.569182: I tensorflow/core/common_runtime/pluggable_device/pluggable_device_factory.cc:269] Created TensorFlow device (/job:localhost/replica:0/task:0/device:GPU:0 with 0 MB memory) -> physical PluggableDevice (device: 0, name: METAL, pci bus id: <undefined>)\n"
     ]
    }
   ],
   "source": [
    "y_train = tf.one_hot(y_train, 10)\n",
    "y_test = tf.one_hot(y_test, 10)"
   ]
  },
  {
   "cell_type": "code",
   "execution_count": 6,
   "id": "77a313ab-2e5d-4c6f-a472-a2abd47b12ce",
   "metadata": {},
   "outputs": [
    {
     "name": "stdout",
     "output_type": "stream",
     "text": [
      "tf.Tensor(\n",
      "[[0. 0. 0. 0. 0. 1. 0. 0. 0. 0.]\n",
      " [1. 0. 0. 0. 0. 0. 0. 0. 0. 0.]\n",
      " [0. 0. 0. 0. 1. 0. 0. 0. 0. 0.]\n",
      " [0. 1. 0. 0. 0. 0. 0. 0. 0. 0.]\n",
      " [0. 0. 0. 0. 0. 0. 0. 0. 0. 1.]], shape=(5, 10), dtype=float32)\n"
     ]
    }
   ],
   "source": [
    "print(y_train[0:5])"
   ]
  },
  {
   "cell_type": "code",
   "execution_count": 7,
   "id": "a22b8f5e-f9a8-4fef-baa0-457917838635",
   "metadata": {},
   "outputs": [],
   "source": [
    "train_ds = tf.data.Dataset.from_tensor_slices((x_train, y_train)).batch(50)\n",
    "test_ds = tf.data.Dataset.from_tensor_slices ((x_test, y_test)).batch(50)"
   ]
  },
  {
   "cell_type": "code",
   "execution_count": 10,
   "id": "ea2b6919-d118-4545-a6b3-2c3ec6d9aac3",
   "metadata": {},
   "outputs": [
    {
     "name": "stdout",
     "output_type": "stream",
     "text": [
      "(60000, 28, 28)\n",
      "(60000, 784)\n"
     ]
    }
   ],
   "source": [
    "from tensorflow.keras.layers import Flatten\n",
    "flat = Flatten(dtype='float32')\n",
    "\n",
    "print(x_train.shape)\n",
    "print(flat(x_train).shape)"
   ]
  },
  {
   "cell_type": "code",
   "execution_count": 11,
   "id": "983924b1-05b3-4fdf-8a06-becea6a9d6d3",
   "metadata": {},
   "outputs": [],
   "source": [
    "# Weight tensor\n",
    "W = tf.Variable(tf.zeros([784, 10], tf.float32))\n",
    "# Bias tensor\n",
    "b = tf.Variable(tf.zeros([10], tf.float32))"
   ]
  },
  {
   "cell_type": "code",
   "execution_count": 12,
   "id": "237a0bfd-ebd9-4e2a-b169-ffa20644b64b",
   "metadata": {},
   "outputs": [],
   "source": [
    "def forward(x):\n",
    "    return tf.matmul(x,W) + b"
   ]
  },
  {
   "cell_type": "code",
   "execution_count": 17,
   "id": "71bf37a9-dbb6-49b8-a6d3-97079fac40e0",
   "metadata": {},
   "outputs": [],
   "source": [
    "def activate(x):\n",
    "    return tf.nn.softmax(forward(x))"
   ]
  },
  {
   "cell_type": "code",
   "execution_count": 24,
   "id": "a6acf9ad-0894-43df-858f-a8e362df7931",
   "metadata": {},
   "outputs": [],
   "source": [
    "def model(x):\n",
    "    x = flat(x)\n",
    "    return activate(x)"
   ]
  },
  {
   "cell_type": "code",
   "execution_count": 25,
   "id": "4d487d12-b01f-49af-b36f-d8577ea82994",
   "metadata": {},
   "outputs": [],
   "source": [
    "def cross_entropy(y_label, y_pred):\n",
    "    return (-tf.reduce_sum(y_label * tf.math.log(y_pred + 1.e-10)))"
   ]
  },
  {
   "cell_type": "code",
   "execution_count": 31,
   "id": "98e0754d-8bae-487e-8f7f-525db8169e8f",
   "metadata": {},
   "outputs": [],
   "source": [
    "def train (x,y):\n",
    "    with tf.GradientTape() as tape:\n",
    "        loss = cross_entropy(y, model(x))\n",
    "        grads = tape.gradient(loss, [W, b])\n",
    "        optimizer.apply_gradients(zip(grads, [W,b]))\n",
    "    return loss.numpy()"
   ]
  },
  {
   "cell_type": "code",
   "execution_count": 32,
   "id": "45d44f01-b4aa-463c-ab66-f632d8a6df08",
   "metadata": {},
   "outputs": [],
   "source": [
    "optimizer = tf.keras.optimizers.legacy.SGD(learning_rate = 0.25)"
   ]
  },
  {
   "cell_type": "code",
   "execution_count": 33,
   "id": "a5d65e30-95ec-4f9e-acbb-ea3e41853b08",
   "metadata": {},
   "outputs": [
    {
     "name": "stdout",
     "output_type": "stream",
     "text": [
      "epoch  0 batch 500 loss: 402.5702\n",
      "epoch  0 batch 1000 loss: 344.53265\n",
      "end of epoch  0 loss 461481.75 accuracy 0.65206665\n",
      "epoch  1 batch 500 loss: 365.1266\n",
      "epoch  1 batch 1000 loss: 325.00385\n",
      "end of epoch  1 loss 458748.8 accuracy 0.6559333\n",
      "epoch  2 batch 500 loss: 346.27234\n",
      "epoch  2 batch 1000 loss: 336.95895\n",
      "end of epoch  2 loss 453419.28 accuracy 0.66103333\n",
      "epoch  3 batch 500 loss: 368.41364\n",
      "epoch  3 batch 1000 loss: 332.78177\n",
      "end of epoch  3 loss 459142.0 accuracy 0.656\n",
      "epoch  4 batch 500 loss: 351.72223\n",
      "epoch  4 batch 1000 loss: 299.56375\n",
      "end of epoch  4 loss 452614.3 accuracy 0.6631\n",
      "epoch  5 batch 500 loss: 345.4187\n",
      "epoch  5 batch 1000 loss: 311.43112\n",
      "end of epoch  5 loss 450865.2 accuracy 0.66518337\n",
      "epoch  6 batch 500 loss: 357.24945\n",
      "epoch  6 batch 1000 loss: 330.8289\n",
      "end of epoch  6 loss 450264.88 accuracy 0.6663333\n",
      "epoch  7 batch 500 loss: 345.39035\n",
      "epoch  7 batch 1000 loss: 309.9415\n",
      "end of epoch  7 loss 452757.4 accuracy 0.66436666\n",
      "epoch  8 batch 500 loss: 345.39423\n",
      "epoch  8 batch 1000 loss: 320.9945\n",
      "end of epoch  8 loss 449334.47 accuracy 0.66745\n",
      "epoch  9 batch 500 loss: 346.92798\n",
      "epoch  9 batch 1000 loss: 323.40335\n",
      "end of epoch  9 loss 451737.38 accuracy 0.66443336\n"
     ]
    }
   ],
   "source": [
    "W = tf.Variable(tf.zeros([784, 10],tf.float32))\n",
    "# Bias tensor\n",
    "b = tf.Variable(tf.zeros([10],tf.float32))\n",
    "\n",
    "loss_values=[]\n",
    "accuracies = []\n",
    "epochs = 10\n",
    "\n",
    "for i in range(epochs):\n",
    "    j=0\n",
    "    # each batch has 50 examples\n",
    "    for x_train_batch, y_train_batch in train_ds:\n",
    "        j+=1\n",
    "        current_loss = train(x_train_batch, y_train_batch)\n",
    "        if j%500==0: #reporting intermittent batch statistics\n",
    "            print(\"epoch \", str(i), \"batch\", str(j), \"loss:\", str(current_loss) ) \n",
    "    \n",
    "    # collecting statistics at each epoch...loss function and accuracy\n",
    "    #  loss function\n",
    "    current_loss = cross_entropy( y_train, model( x_train )).numpy()\n",
    "    loss_values.append(current_loss)\n",
    "    correct_prediction = tf.equal(tf.argmax(model(x_train), axis=1),\n",
    "                                  tf.argmax(y_train, axis=1))\n",
    "    #  accuracy\n",
    "    accuracy = tf.reduce_mean(tf.cast(correct_prediction, tf.float32)).numpy()\n",
    "    accuracies.append(accuracy)\n",
    "    print(\"end of epoch \", str(i), \"loss\", str(current_loss), \"accuracy\", str(accuracy) ) "
   ]
  },
  {
   "cell_type": "code",
   "execution_count": 34,
   "id": "3036393a-dbb9-4bd6-a744-373abd94daa8",
   "metadata": {},
   "outputs": [
    {
     "name": "stdout",
     "output_type": "stream",
     "text": [
      "training accuracy 0.66443336\n",
      "test accuracy 0.6629\n"
     ]
    }
   ],
   "source": [
    "correct_prediction_train = tf.equal(tf.argmax(model(x_train), axis=1),tf.argmax(y_train,axis=1))\n",
    "accuracy_train = tf.reduce_mean(tf.cast(correct_prediction_train, tf.float32)).numpy()\n",
    "\n",
    "correct_prediction_test = tf.equal(tf.argmax(model(x_test), axis=1),tf.argmax(y_test, axis=1))\n",
    "accuracy_test = tf.reduce_mean(tf.cast(correct_prediction_test, tf.float32)).numpy()\n",
    "\n",
    "print(\"training accuracy\", accuracy_train)\n",
    "print(\"test accuracy\", accuracy_test)"
   ]
  },
  {
   "cell_type": "code",
   "execution_count": 35,
   "id": "2031165d-8232-4b05-abbc-cce2c3b9ab95",
   "metadata": {},
   "outputs": [
    {
     "data": {
      "text/plain": [
       "Text(0, 0.5, 'loss')"
      ]
     },
     "execution_count": 35,
     "metadata": {},
     "output_type": "execute_result"
    },
    {
     "data": {
      "image/png": "[encoded data removed]",
      "text/plain": [
       "<Figure size 1000x600 with 1 Axes>"
      ]
     },
     "metadata": {},
     "output_type": "display_data"
    }
   ],
   "source": [
    "import matplotlib.pyplot as plt\n",
    "%matplotlib inline\n",
    "plt.rcParams['figure.figsize'] = (10, 6)\n",
    "#print(loss_values)\n",
    "plt.plot(loss_values,'-ro')\n",
    "plt.title(\"loss per epoch\")\n",
    "plt.xlabel(\"epoch\")\n",
    "plt.ylabel(\"loss\")"
   ]
  },
  {
   "cell_type": "code",
   "execution_count": 36,
   "id": "57087de9-d94a-4528-952e-89ce06b958a9",
   "metadata": {},
   "outputs": [
    {
     "data": {
      "text/plain": [
       "Text(0, 0.5, 'accuracy')"
      ]
     },
     "execution_count": 36,
     "metadata": {},
     "output_type": "execute_result"
    },
    {
     "data": {
      "image/png": "[encoded data removed]",
      "text/plain": [
       "<Figure size 1000x600 with 1 Axes>"
      ]
     },
     "metadata": {},
     "output_type": "display_data"
    }
   ],
   "source": [
    "plt.plot(accuracies,'-ro')\n",
    "plt.title(\"accuracy per epoch\")\n",
    "plt.xlabel(\"epoch\")\n",
    "plt.ylabel(\"accuracy\")"
   ]
  },
  {
   "cell_type": "markdown",
   "id": "35f2c432-71be-4774-9902-2d4a40e2890b",
   "metadata": {},
   "source": [
    "Making a CNN."
   ]
  },
  {
   "cell_type": "code",
   "execution_count": 38,
   "id": "d2a9ecb1-a8a3-45fa-8e77-237aca260a91",
   "metadata": {},
   "outputs": [],
   "source": [
    "width = 28 # width of the image in pixels \n",
    "height = 28 # height of the image in pixels\n",
    "flat = width * height # number of pixels in one image \n",
    "class_output = 10 # number of possible classifications for the problem"
   ]
  },
  {
   "cell_type": "code",
   "execution_count": 39,
   "id": "f576ce7c-494b-443a-89e1-a19b72717768",
   "metadata": {},
   "outputs": [],
   "source": [
    "x_image_train = tf.reshape(x_train, [-1,28,28,1])  \n",
    "x_image_train = tf.cast(x_image_train, 'float32') \n",
    "\n",
    "x_image_test = tf.reshape(x_test, [-1,28,28,1]) \n",
    "x_image_test = tf.cast(x_image_test, 'float32') \n",
    "\n",
    "#creating new dataset with reshaped inputs\n",
    "train_ds2 = tf.data.Dataset.from_tensor_slices((x_image_train, y_train)).batch(50)\n",
    "test_ds2 = tf.data.Dataset.from_tensor_slices((x_image_test, y_test)).batch(50)"
   ]
  },
  {
   "cell_type": "code",
   "execution_count": 40,
   "id": "47838e0d-4899-4635-a9b9-81cbafa816dd",
   "metadata": {},
   "outputs": [],
   "source": [
    "x_image_train = tf.slice(x_image_train,[0,0,0,0],[10000, 28, 28, 1])\n",
    "y_train = tf.slice(y_train,[0,0],[10000, 10])"
   ]
  },
  {
   "cell_type": "code",
   "execution_count": 41,
   "id": "6b54f871-02fa-4c22-994c-411e700e3085",
   "metadata": {},
   "outputs": [],
   "source": [
    "W_conv1 = tf.Variable(tf.random.truncated_normal([5, 5, 1, 32], stddev=0.1, seed=0))\n",
    "b_conv1 = tf.Variable(tf.constant(0.1, shape=[32])) # need 32 biases for 32 outputs"
   ]
  },
  {
   "cell_type": "code",
   "execution_count": 42,
   "id": "422ec632-99d3-4d85-8525-69c77ac6754e",
   "metadata": {},
   "outputs": [],
   "source": [
    "def convolve1(x):\n",
    "    return(\n",
    "        tf.nn.conv2d(x, W_conv1, strides=[1, 1, 1, 1], padding='SAME') + b_conv1)"
   ]
  },
  {
   "cell_type": "code",
   "execution_count": 43,
   "id": "651d6a2d-51a0-41c0-8253-d9bb04d2fd6f",
   "metadata": {},
   "outputs": [],
   "source": [
    "def h_conv1(x): return(tf.nn.relu(convolve1(x)))"
   ]
  },
  {
   "cell_type": "code",
   "execution_count": 44,
   "id": "bcf774bd-b945-4b19-a9ef-d6a01c77c733",
   "metadata": {},
   "outputs": [],
   "source": [
    "def conv1(x):\n",
    "    return tf.nn.max_pool(h_conv1(x), ksize=[1, 2, 2, 1], \n",
    "                          strides=[1, 2, 2, 1], padding='SAME')"
   ]
  },
  {
   "cell_type": "code",
   "execution_count": 45,
   "id": "163f7b6c-0472-48be-8c44-30b2d07608a1",
   "metadata": {},
   "outputs": [],
   "source": [
    "W_conv2 = tf.Variable(tf.random.truncated_normal([5, 5, 32, 64], stddev=0.1, seed=1))\n",
    "b_conv2 = tf.Variable(tf.constant(0.1, shape=[64])) #need 64 biases for 64 outputs"
   ]
  },
  {
   "cell_type": "code",
   "execution_count": 46,
   "id": "0f9fdc46-c51f-4678-aec2-d2ce627396fe",
   "metadata": {},
   "outputs": [],
   "source": [
    "def convolve2(x): \n",
    "    return( \n",
    "    tf.nn.conv2d(conv1(x), W_conv2, strides=[1, 1, 1, 1], padding='SAME') + b_conv2)"
   ]
  },
  {
   "cell_type": "code",
   "execution_count": 48,
   "id": "68472b3b-00d1-4b68-bbf6-83d266565150",
   "metadata": {},
   "outputs": [],
   "source": [
    "def h_conv2(x):  return tf.nn.relu(convolve2(x))"
   ]
  },
  {
   "cell_type": "code",
   "execution_count": 49,
   "id": "ca08ad7e-b4a7-4729-ac46-5538ea37b160",
   "metadata": {},
   "outputs": [],
   "source": [
    "def conv2(x):  \n",
    "    return(\n",
    "    tf.nn.max_pool(h_conv2(x), ksize=[1, 2, 2, 1], strides=[1, 2, 2, 1], padding='SAME'))"
   ]
  },
  {
   "cell_type": "code",
   "execution_count": 50,
   "id": "fbb70f79-1a56-4ab4-95b4-906239d821ac",
   "metadata": {},
   "outputs": [],
   "source": [
    "def layer2_matrix(x): return tf.reshape(conv2(x), [-1, 7 * 7 * 64])"
   ]
  },
  {
   "cell_type": "code",
   "execution_count": 51,
   "id": "94c5ae5b-4f0c-4f54-97b4-5391dcd23d6c",
   "metadata": {},
   "outputs": [],
   "source": [
    "W_fc1 = tf.Variable(tf.random.truncated_normal([7 * 7 * 64, 1024], stddev=0.1, seed = 2))\n",
    "b_fc1 = tf.Variable(tf.constant(0.1, shape=[1024])) # need 1024 biases for 1024 outputs"
   ]
  },
  {
   "cell_type": "code",
   "execution_count": 52,
   "id": "51f0964a-c4d6-4d10-8b00-9bf1c71b5dac",
   "metadata": {},
   "outputs": [],
   "source": [
    "def fcl(x): return tf.matmul(layer2_matrix(x), W_fc1) + b_fc1"
   ]
  },
  {
   "cell_type": "code",
   "execution_count": 53,
   "id": "8fa6df18-0add-47c5-a7a7-361f6a122729",
   "metadata": {},
   "outputs": [],
   "source": [
    "def h_fc1(x): return tf.nn.relu(fcl(x))"
   ]
  },
  {
   "cell_type": "code",
   "execution_count": 54,
   "id": "0253460b-ec82-47ae-94fa-22e11b7c3bb3",
   "metadata": {},
   "outputs": [],
   "source": [
    "keep_prob=0.5\n",
    "def layer_drop(x): return tf.nn.dropout(h_fc1(x), keep_prob)"
   ]
  },
  {
   "cell_type": "code",
   "execution_count": 55,
   "id": "34e9b47b-0f19-4ea7-9e25-6f6a8444536d",
   "metadata": {},
   "outputs": [],
   "source": [
    "W_fc2 = tf.Variable(tf.random.truncated_normal([1024, 10], stddev=0.1, seed = 2)) #1024 neurons\n",
    "b_fc2 = tf.Variable(tf.constant(0.1, shape=[10])) # 10 possibilities for digits [0,1,2,3,4,5,6,7,8,9]"
   ]
  },
  {
   "cell_type": "code",
   "execution_count": 56,
   "id": "7b6e1277-6f33-4982-a7ff-ec9aed656b72",
   "metadata": {},
   "outputs": [],
   "source": [
    "def fc(x): return tf.matmul(layer_drop(x), W_fc2) + b_fc2"
   ]
  },
  {
   "cell_type": "code",
   "execution_count": 57,
   "id": "3d3c0f44-e906-4867-a990-c54f5c019e4b",
   "metadata": {},
   "outputs": [],
   "source": [
    "def y_CNN(x): return tf.nn.softmax(fc(x))"
   ]
  },
  {
   "cell_type": "code",
   "execution_count": 59,
   "id": "7c450d44-6abe-4b54-8997-ba19bf6471a3",
   "metadata": {},
   "outputs": [],
   "source": [
    "def cross_entropy(y_label, y_pred):\n",
    "    return (-tf.reduce_sum(y_label * tf.math.log(y_pred + 1.e-10)))"
   ]
  },
  {
   "cell_type": "code",
   "execution_count": 61,
   "id": "be774fa3-eb1c-45e8-9005-229eea865fa1",
   "metadata": {},
   "outputs": [],
   "source": [
    "optimizer = tf.keras.optimizers.legacy.Adam(1e-4)"
   ]
  },
  {
   "cell_type": "code",
   "execution_count": 62,
   "id": "294f2ec1-ab6a-4b42-ba80-676283792180",
   "metadata": {},
   "outputs": [],
   "source": [
    "variables = [W_conv1, b_conv1, W_conv2, b_conv2, \n",
    "             W_fc1, b_fc1, W_fc2, b_fc2, ]\n",
    "\n",
    "def train_step(x, y):\n",
    "    with tf.GradientTape() as tape:\n",
    "        current_loss = cross_entropy( y, y_CNN( x ))\n",
    "        grads = tape.gradient( current_loss , variables )\n",
    "        optimizer.apply_gradients( zip( grads , variables ) )\n",
    "        return current_loss.numpy()"
   ]
  },
  {
   "cell_type": "code",
   "execution_count": 63,
   "id": "e2d11a3f-1219-4e56-b53b-cfd1350ed7b3",
   "metadata": {},
   "outputs": [],
   "source": [
    "correct_prediction = tf.equal(tf.argmax(y_CNN(x_image_train), axis=1), tf.argmax(y_train, axis=1))"
   ]
  },
  {
   "cell_type": "code",
   "execution_count": 64,
   "id": "57f2445b-9dce-490e-8cd3-21bcdcc4548f",
   "metadata": {},
   "outputs": [],
   "source": [
    "accuracy = tf.reduce_mean(tf.cast(correct_prediction, 'float32'))"
   ]
  },
  {
   "cell_type": "code",
   "execution_count": 65,
   "id": "6796b4b9-784f-44cb-888d-2a6ef3ec3075",
   "metadata": {},
   "outputs": [
    {
     "name": "stdout",
     "output_type": "stream",
     "text": [
      "epoch  0 batch 50 loss: 78.521194 accuracy 0.53999996\n",
      "epoch  0 batch 100 loss: 40.872356 accuracy 0.74\n",
      "epoch  0 batch 150 loss: 46.122948 accuracy 0.7\n",
      "epoch  0 batch 200 loss: 14.368689 accuracy 0.94\n",
      "epoch  0 batch 250 loss: 20.398703 accuracy 0.84\n",
      "epoch  0 batch 300 loss: 19.364761 accuracy 0.9\n",
      "epoch  0 batch 350 loss: 23.895773 accuracy 0.82\n",
      "epoch  0 batch 400 loss: 13.024152 accuracy 0.88\n",
      "epoch  0 batch 450 loss: 17.955236 accuracy 0.9\n",
      "epoch  0 batch 500 loss: 13.919489 accuracy 0.96\n",
      "epoch  0 batch 550 loss: 15.303941 accuracy 0.91999996\n",
      "epoch  0 batch 600 loss: 22.40572 accuracy 0.82\n",
      "epoch  0 batch 650 loss: 14.216887 accuracy 0.88\n",
      "epoch  0 batch 700 loss: 5.5826473 accuracy 0.97999996\n",
      "epoch  0 batch 750 loss: 29.271624 accuracy 0.9\n",
      "epoch  0 batch 800 loss: 10.429706 accuracy 0.91999996\n",
      "epoch  0 batch 850 loss: 18.135689 accuracy 0.88\n",
      "epoch  0 batch 900 loss: 10.418995 accuracy 0.94\n",
      "epoch  0 batch 950 loss: 16.918142 accuracy 0.9\n",
      "epoch  0 batch 1000 loss: 9.889475 accuracy 0.96\n",
      "epoch  0 batch 1050 loss: 6.804633 accuracy 0.94\n",
      "epoch  0 batch 1100 loss: 9.326736 accuracy 0.94\n",
      "epoch  0 batch 1150 loss: 6.8205132 accuracy 0.96\n",
      "epoch  0 batch 1200 loss: 3.3909948 accuracy 1.0\n",
      "end of epoch  0 loss 3314.3372 accuracy 0.898\n"
     ]
    }
   ],
   "source": [
    "loss_values=[]\n",
    "accuracies = []\n",
    "epochs = 1\n",
    "\n",
    "for i in range(epochs):\n",
    "    j=0\n",
    "    # each batch has 50 examples\n",
    "    for x_train_batch, y_train_batch in train_ds2:\n",
    "        j+=1\n",
    "        current_loss = train_step(x_train_batch, y_train_batch)\n",
    "        if j%50==0: #reporting intermittent batch statistics\n",
    "            correct_prediction = tf.equal(tf.argmax(y_CNN(x_train_batch), axis=1),\n",
    "                                  tf.argmax(y_train_batch, axis=1))\n",
    "            #  accuracy\n",
    "            accuracy = tf.reduce_mean(tf.cast(correct_prediction, tf.float32)).numpy()\n",
    "            print(\"epoch \", str(i), \"batch\", str(j), \"loss:\", str(current_loss),\n",
    "                     \"accuracy\", str(accuracy)) \n",
    "            \n",
    "    current_loss = cross_entropy( y_train, y_CNN( x_image_train )).numpy()\n",
    "    loss_values.append(current_loss)\n",
    "    correct_prediction = tf.equal(tf.argmax(y_CNN(x_image_train), axis=1),\n",
    "                                  tf.argmax(y_train, axis=1))\n",
    "    #  accuracy\n",
    "    accuracy = tf.reduce_mean(tf.cast(correct_prediction, tf.float32)).numpy()\n",
    "    accuracies.append(accuracy)\n",
    "    print(\"end of epoch \", str(i), \"loss\", str(current_loss), \"accuracy\", str(accuracy) )  "
   ]
  },
  {
   "cell_type": "code",
   "execution_count": null,
   "id": "35097341-3bb3-4323-aca0-67d72c0823bc",
   "metadata": {},
   "outputs": [
    {
     "name": "stdout",
     "output_type": "stream",
     "text": [
      "batch 100 accuracy 0.96\n"
     ]
    }
   ],
   "source": [
    "j=0\n",
    "acccuracies=[]\n",
    "# evaluate accuracy by batch and average...reporting every 100th batch\n",
    "for x_train_batch, y_train_batch in train_ds2:\n",
    "        j+=1\n",
    "        correct_prediction = tf.equal(tf.argmax(y_CNN(x_train_batch), axis=1),\n",
    "                                  tf.argmax(y_train_batch, axis=1))\n",
    "        accuracy = tf.reduce_mean(tf.cast(correct_prediction, tf.float32)).numpy()\n",
    "        #accuracies.append(accuracy)\n",
    "        if j%100==0:\n",
    "            print(\"batch\", str(j), \"accuracy\", str(accuracy) ) \n",
    "import numpy as np\n",
    "print(\"accuracy of entire set\", str(np.mean(accuracies)))            "
   ]
  },
  {
   "cell_type": "code",
   "execution_count": null,
   "id": "9a01739c-9ce2-4b9c-bcd7-771f33f84548",
   "metadata": {},
   "outputs": [],
   "source": []
  }
 ],
 "metadata": {
  "kernelspec": {
   "display_name": "tensorflow",
   "language": "python",
   "name": "tensorflow"
  },
  "language_info": {
   "codemirror_mode": {
    "name": "ipython",
    "version": 3
   },
   "file_extension": ".py",
   "mimetype": "text/x-python",
   "name": "python",
   "nbconvert_exporter": "python",
   "pygments_lexer": "ipython3",
   "version": "3.10.9"
  }
 },
 "nbformat": 4,
 "nbformat_minor": 5
}
