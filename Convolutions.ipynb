{
 "cells": [
  {
   "cell_type": "code",
   "execution_count": 2,
   "id": "652332ec-6974-4f3f-942a-7e54163912c5",
   "metadata": {},
   "outputs": [],
   "source": [
    "import numpy as np"
   ]
  },
  {
   "cell_type": "code",
   "execution_count": 3,
   "id": "a4a35ad7-df57-4d08-8a02-1e799e253fb0",
   "metadata": {},
   "outputs": [
    {
     "data": {
      "text/plain": [
       "array([ 6, 11, 14,  5,  0])"
      ]
     },
     "execution_count": 3,
     "metadata": {},
     "output_type": "execute_result"
    }
   ],
   "source": [
    "h = [2,1,0]\n",
    "x = [3, 4, 5]\n",
    "y = np.convolve(x,h)\n",
    "y"
   ]
  },
  {
   "cell_type": "code",
   "execution_count": 4,
   "id": "d46afcb8-4ad0-4b07-958c-01d65f8ae49c",
   "metadata": {},
   "outputs": [],
   "source": [
    "import numpy as np\n",
    "x = [6,2]\n",
    "h = [1,2,5,4]\n",
    "y = np.convolve(x, h, 'full')"
   ]
  },
  {
   "cell_type": "code",
   "execution_count": 5,
   "id": "1788944b-5255-452c-ab75-dcf2f91a8ff9",
   "metadata": {},
   "outputs": [
    {
     "data": {
      "text/plain": [
       "array([ 6, 14, 34, 34,  8])"
      ]
     },
     "execution_count": 5,
     "metadata": {},
     "output_type": "execute_result"
    }
   ],
   "source": [
    "y"
   ]
  },
  {
   "cell_type": "code",
   "execution_count": 6,
   "id": "65bf4e52-26cd-48fc-a362-57de0e8421a9",
   "metadata": {},
   "outputs": [],
   "source": [
    "x = [6,2]\n",
    "h = [1,2,5,4]"
   ]
  },
  {
   "cell_type": "code",
   "execution_count": 7,
   "id": "d46ad5d7-fd9b-47c4-ae91-5c84b9846284",
   "metadata": {},
   "outputs": [],
   "source": [
    "y = np.convolve(x,h, 'same')"
   ]
  },
  {
   "cell_type": "code",
   "execution_count": 8,
   "id": "70bb2a51-22c9-4e36-9cf0-4fc138e9d3f4",
   "metadata": {},
   "outputs": [
    {
     "data": {
      "text/plain": [
       "array([ 6, 14, 34, 34])"
      ]
     },
     "execution_count": 8,
     "metadata": {},
     "output_type": "execute_result"
    }
   ],
   "source": [
    "y"
   ]
  },
  {
   "cell_type": "code",
   "execution_count": 9,
   "id": "927bd66e-6585-48a7-a1d7-9684492e70c7",
   "metadata": {},
   "outputs": [],
   "source": [
    "y = np.convolve(x, h, 'valid')"
   ]
  },
  {
   "cell_type": "code",
   "execution_count": 10,
   "id": "90ce46c0-3ecd-4800-b7b7-7b6a85898aec",
   "metadata": {},
   "outputs": [
    {
     "data": {
      "text/plain": [
       "array([14, 34, 34])"
      ]
     },
     "execution_count": 10,
     "metadata": {},
     "output_type": "execute_result"
    }
   ],
   "source": [
    "y"
   ]
  }
 ],
 "metadata": {
  "kernelspec": {
   "display_name": "tensorflow",
   "language": "python",
   "name": "tensorflow"
  },
  "language_info": {
   "codemirror_mode": {
    "name": "ipython",
    "version": 3
   },
   "file_extension": ".py",
   "mimetype": "text/x-python",
   "name": "python",
   "nbconvert_exporter": "python",
   "pygments_lexer": "ipython3",
   "version": "3.10.9"
  }
 },
 "nbformat": 4,
 "nbformat_minor": 5
}
